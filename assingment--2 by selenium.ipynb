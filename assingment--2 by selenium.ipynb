{
 "cells": [
  {
   "cell_type": "code",
   "execution_count": 1,
   "id": "f22fc97b",
   "metadata": {},
   "outputs": [],
   "source": [
    "import selenium\n",
    "import pandas as pd\n",
    "from selenium import webdriver\n",
    "import warnings\n",
    "warnings.filterwarnings('ignore')\n",
    "from selenium.common.exceptions import StaleElementReferenceException,NoSuchElementException\n",
    "from selenium.webdriver.common.by import By\n",
    "import time"
   ]
  },
  {
   "cell_type": "code",
   "execution_count": 2,
   "id": "9038a580",
   "metadata": {},
   "outputs": [],
   "source": [
    "#python program to scrape data for “Data Analyst” Job position in “Bangalore” location. You have to scrape the job-title, job-location, company_name, experience_required. You have to scrape first 10 jobs data. \n",
    "#This task will be done in following steps: \n",
    "#1.\tFirst get the webpage https://www.naukri.com/ \n",
    "#2.\tEnter “Data Analyst” in “Skill, Designations, Companies” field and enter “Bangalore” in “enter the location” field. \n",
    "#3.\tThen click the search button. \n",
    "#4.\tThen scrape the data for the first 10 jobs results you get. \n",
    "#5.\tFinally create a dataframe of the scraped data. \n"
   ]
  },
  {
   "cell_type": "code",
   "execution_count": 3,
   "id": "f1d1ff9e",
   "metadata": {},
   "outputs": [],
   "source": [
    "driver=webdriver.Chrome(r\"C:\\Users\\RITVIK BHARDWAJ\\Desktop\\chrome web driver\\chrome.exe\")"
   ]
  },
  {
   "cell_type": "code",
   "execution_count": 4,
   "id": "ed6a15f5",
   "metadata": {},
   "outputs": [],
   "source": [
    "driver.get(\"https://www.naukri.com/\")"
   ]
  },
  {
   "cell_type": "code",
   "execution_count": 5,
   "id": "1ce157b0",
   "metadata": {},
   "outputs": [],
   "source": [
    "designation=driver.find_element(By.CLASS_NAME,\"suggestor-input\")\n",
    "#that was the class name\n",
    "designation.send_keys(\"Data Analyst\")\n",
    "#that was to tell the pointer to jump on the search bar\n",
    "#send_keys is to when you want to right something on the box"
   ]
  },
  {
   "cell_type": "code",
   "execution_count": 6,
   "id": "898dbf05",
   "metadata": {},
   "outputs": [],
   "source": [
    "location=driver.find_element(By.XPATH,\"/html/body/div[1]/div[7]/div/div/div[5]/div/div/div/div[1]/div/input\")\n",
    "location.send_keys('banglore')"
   ]
  },
  {
   "cell_type": "code",
   "execution_count": 7,
   "id": "f67024e7",
   "metadata": {},
   "outputs": [],
   "source": [
    "search=driver.find_element(By.CLASS_NAME,\"qsbSubmit\")\n",
    "search.click()"
   ]
  },
  {
   "cell_type": "code",
   "execution_count": 52,
   "id": "c9d90974",
   "metadata": {},
   "outputs": [],
   "source": [
    "job_titles=[]\n",
    "job_locations=[]\n",
    "company_name=[]\n",
    "exp_req=[]\n"
   ]
  },
  {
   "cell_type": "code",
   "execution_count": 53,
   "id": "26b9d8b9",
   "metadata": {},
   "outputs": [],
   "source": [
    "#scraping the title\n",
    "title_tags=driver.find_elements(By.XPATH,'//a[@class=\"title ellipsis\"]')\n",
    "for i in title_tags[0:10]:\n",
    "    title=i.text\n",
    "    job_titles.append(title)"
   ]
  },
  {
   "cell_type": "code",
   "execution_count": 54,
   "id": "69691b33",
   "metadata": {},
   "outputs": [],
   "source": [
    "#scraping the location\n",
    "location_tags=driver.find_elements(By.XPATH,'//span[@class=\"ellipsis fleft locWdth\"]')\n",
    "for i in location_tags[0:10]:\n",
    "    loc=i.text\n",
    "    job_locations.append(loc)"
   ]
  },
  {
   "cell_type": "code",
   "execution_count": 55,
   "id": "7a644f47",
   "metadata": {},
   "outputs": [],
   "source": [
    "#scraping the company name\n",
    "company_tags=driver.find_elements(By.XPATH,'//a[@class=\"subTitle ellipsis fleft\"]')\n",
    "for i in company_tags[0:10]:\n",
    "    comp=i.text\n",
    "    company_name.append(comp)"
   ]
  },
  {
   "cell_type": "code",
   "execution_count": 56,
   "id": "27d86aae",
   "metadata": {},
   "outputs": [],
   "source": [
    "#scraping the experience\n",
    "experience_tags=driver.find_elements(By.XPATH,'//span[@class=\"ellipsis fleft expwdth\"]')\n",
    "for i in experience_tags[0:10]:\n",
    "    exp=i.text\n",
    "    exp_req.append(exp)"
   ]
  },
  {
   "cell_type": "code",
   "execution_count": 57,
   "id": "50d4df79",
   "metadata": {},
   "outputs": [
    {
     "data": {
      "text/html": [
       "<div>\n",
       "<style scoped>\n",
       "    .dataframe tbody tr th:only-of-type {\n",
       "        vertical-align: middle;\n",
       "    }\n",
       "\n",
       "    .dataframe tbody tr th {\n",
       "        vertical-align: top;\n",
       "    }\n",
       "\n",
       "    .dataframe thead th {\n",
       "        text-align: right;\n",
       "    }\n",
       "</style>\n",
       "<table border=\"1\" class=\"dataframe\">\n",
       "  <thead>\n",
       "    <tr style=\"text-align: right;\">\n",
       "      <th></th>\n",
       "      <th>titles</th>\n",
       "      <th>location</th>\n",
       "      <th>company name</th>\n",
       "      <th>experience required</th>\n",
       "    </tr>\n",
       "  </thead>\n",
       "  <tbody>\n",
       "  </tbody>\n",
       "</table>\n",
       "</div>"
      ],
      "text/plain": [
       "Empty DataFrame\n",
       "Columns: [titles, location, company name, experience required]\n",
       "Index: []"
      ]
     },
     "execution_count": 57,
     "metadata": {},
     "output_type": "execute_result"
    }
   ],
   "source": [
    "import pandas as pd\n",
    "df=pd.DataFrame({'titles':job_titles,'location':job_locations,'company name':company_name,'experience required':exp_req})\n",
    "df"
   ]
  },
  {
   "cell_type": "code",
   "execution_count": 58,
   "id": "11bfefb6",
   "metadata": {},
   "outputs": [],
   "source": [
    "#question--2"
   ]
  },
  {
   "cell_type": "code",
   "execution_count": 59,
   "id": "ff62bc19",
   "metadata": {},
   "outputs": [],
   "source": [
    "driver=webdriver.Chrome(r\"C:\\Users\\RITVIK BHARDWAJ\\Desktop\\chrome web driver\\chrome.exe\")"
   ]
  },
  {
   "cell_type": "code",
   "execution_count": 60,
   "id": "87559d19",
   "metadata": {},
   "outputs": [],
   "source": [
    "driver.get(\"https://www.naukri.com/\")"
   ]
  },
  {
   "cell_type": "code",
   "execution_count": 61,
   "id": "9e5a4c05",
   "metadata": {},
   "outputs": [],
   "source": [
    "designation=driver.find_element(By.CLASS_NAME,\"suggestor-input\")\n",
    "#that was the class name\n",
    "designation.send_keys(\"Data Analyst\")\n",
    "#that was to tell the pointer to jump on the search bar\n",
    "#send_keys is to when you want to right something on the box"
   ]
  },
  {
   "cell_type": "code",
   "execution_count": 62,
   "id": "122f7ce9",
   "metadata": {},
   "outputs": [],
   "source": [
    "search=driver.find_element(By.CLASS_NAME,\"qsbSubmit\")\n",
    "search.click()"
   ]
  },
  {
   "cell_type": "code",
   "execution_count": 63,
   "id": "ea6ddf8b",
   "metadata": {},
   "outputs": [],
   "source": [
    "job_titles=[]\n",
    "job_locations=[]\n",
    "company_name=[]\n",
    "exp_req=[]\n"
   ]
  },
  {
   "cell_type": "code",
   "execution_count": 64,
   "id": "1f430210",
   "metadata": {},
   "outputs": [],
   "source": [
    "\n",
    "title_tags=driver.find_elements(By.XPATH,'//a[@class=\"title ellipsis\"]')\n",
    "for i in title_tags[0:10]:\n",
    "    title=i.text\n",
    "    job_titles.append(title)"
   ]
  },
  {
   "cell_type": "code",
   "execution_count": 65,
   "id": "056a4373",
   "metadata": {},
   "outputs": [],
   "source": [
    "#scraping the location\n",
    "location_tags=driver.find_elements(By.XPATH,'//span[@class=\"ellipsis fleft locWdth\"]')\n",
    "for i in location_tags[0:10]:\n",
    "    loc=i.text\n",
    "    job_locations.append(loc)"
   ]
  },
  {
   "cell_type": "code",
   "execution_count": 66,
   "id": "e594210f",
   "metadata": {},
   "outputs": [],
   "source": [
    "#scraping the company name\n",
    "company_tags=driver.find_elements(By.XPATH,'//a[@class=\"subTitle ellipsis fleft\"]')\n",
    "for i in company_tags[0:10]:\n",
    "    comp=i.text\n",
    "    company_name.append(comp)"
   ]
  },
  {
   "cell_type": "code",
   "execution_count": 67,
   "id": "46c00435",
   "metadata": {},
   "outputs": [],
   "source": [
    "#scraping the experience\n",
    "experience_tags=driver.find_elements(By.XPATH,'//span[@class=\"ellipsis fleft expwdth\"]')\n",
    "for i in experience_tags[0:10]:\n",
    "    exp=i.text\n",
    "    exp_req.append(exp)"
   ]
  },
  {
   "cell_type": "code",
   "execution_count": 68,
   "id": "4e1b9ad5",
   "metadata": {},
   "outputs": [
    {
     "data": {
      "text/html": [
       "<div>\n",
       "<style scoped>\n",
       "    .dataframe tbody tr th:only-of-type {\n",
       "        vertical-align: middle;\n",
       "    }\n",
       "\n",
       "    .dataframe tbody tr th {\n",
       "        vertical-align: top;\n",
       "    }\n",
       "\n",
       "    .dataframe thead th {\n",
       "        text-align: right;\n",
       "    }\n",
       "</style>\n",
       "<table border=\"1\" class=\"dataframe\">\n",
       "  <thead>\n",
       "    <tr style=\"text-align: right;\">\n",
       "      <th></th>\n",
       "      <th>titles</th>\n",
       "      <th>location</th>\n",
       "      <th>company name</th>\n",
       "      <th>experience required</th>\n",
       "    </tr>\n",
       "  </thead>\n",
       "  <tbody>\n",
       "    <tr>\n",
       "      <th>0</th>\n",
       "      <td>Data Analyst</td>\n",
       "      <td>Bangalore/Bengaluru</td>\n",
       "      <td>Brillio</td>\n",
       "      <td>0-2 Yrs</td>\n",
       "    </tr>\n",
       "    <tr>\n",
       "      <th>1</th>\n",
       "      <td>Data Analyst</td>\n",
       "      <td>Gurgaon/Gurugram</td>\n",
       "      <td>S&amp;P Global Inc.</td>\n",
       "      <td>0-2 Yrs</td>\n",
       "    </tr>\n",
       "    <tr>\n",
       "      <th>2</th>\n",
       "      <td>Knowledge Data Analyst</td>\n",
       "      <td>Bangalore/Bengaluru</td>\n",
       "      <td>SAP</td>\n",
       "      <td>4-6 Yrs</td>\n",
       "    </tr>\n",
       "    <tr>\n",
       "      <th>3</th>\n",
       "      <td>Data Analyst</td>\n",
       "      <td>Gurgaon/Gurugram</td>\n",
       "      <td>GM Analytics Solutions</td>\n",
       "      <td>2-5 Yrs</td>\n",
       "    </tr>\n",
       "    <tr>\n",
       "      <th>4</th>\n",
       "      <td>Data Analyst - FinTech</td>\n",
       "      <td>Noida, Ghaziabad, Faridabad, Gurgaon/Gurugram,...</td>\n",
       "      <td>Primo Hiring</td>\n",
       "      <td>1-3 Yrs</td>\n",
       "    </tr>\n",
       "    <tr>\n",
       "      <th>5</th>\n",
       "      <td>Data Analyst</td>\n",
       "      <td>Hybrid - Bangalore/Bengaluru, Delhi / NCR</td>\n",
       "      <td>Aon</td>\n",
       "      <td>6-9 Yrs</td>\n",
       "    </tr>\n",
       "    <tr>\n",
       "      <th>6</th>\n",
       "      <td>Data Analyst</td>\n",
       "      <td>Hybrid - Bangalore/Bengaluru, Delhi / NCR</td>\n",
       "      <td>Aon</td>\n",
       "      <td>6-9 Yrs</td>\n",
       "    </tr>\n",
       "    <tr>\n",
       "      <th>7</th>\n",
       "      <td>Data Analyst</td>\n",
       "      <td>Hybrid - Delhi / NCR</td>\n",
       "      <td>HCLTech</td>\n",
       "      <td>3-6 Yrs</td>\n",
       "    </tr>\n",
       "    <tr>\n",
       "      <th>8</th>\n",
       "      <td>Data Analyst I</td>\n",
       "      <td>Gurgaon/Gurugram</td>\n",
       "      <td>Aon</td>\n",
       "      <td>4-6 Yrs</td>\n",
       "    </tr>\n",
       "    <tr>\n",
       "      <th>9</th>\n",
       "      <td>Data Analyst I</td>\n",
       "      <td>Gurgaon/Gurugram</td>\n",
       "      <td>Aon</td>\n",
       "      <td>4-6 Yrs</td>\n",
       "    </tr>\n",
       "  </tbody>\n",
       "</table>\n",
       "</div>"
      ],
      "text/plain": [
       "                   titles                                           location  \\\n",
       "0            Data Analyst                                Bangalore/Bengaluru   \n",
       "1            Data Analyst                                   Gurgaon/Gurugram   \n",
       "2  Knowledge Data Analyst                                Bangalore/Bengaluru   \n",
       "3            Data Analyst                                   Gurgaon/Gurugram   \n",
       "4  Data Analyst - FinTech  Noida, Ghaziabad, Faridabad, Gurgaon/Gurugram,...   \n",
       "5            Data Analyst          Hybrid - Bangalore/Bengaluru, Delhi / NCR   \n",
       "6            Data Analyst          Hybrid - Bangalore/Bengaluru, Delhi / NCR   \n",
       "7            Data Analyst                               Hybrid - Delhi / NCR   \n",
       "8          Data Analyst I                                   Gurgaon/Gurugram   \n",
       "9          Data Analyst I                                   Gurgaon/Gurugram   \n",
       "\n",
       "             company name experience required  \n",
       "0                 Brillio             0-2 Yrs  \n",
       "1         S&P Global Inc.             0-2 Yrs  \n",
       "2                     SAP             4-6 Yrs  \n",
       "3  GM Analytics Solutions             2-5 Yrs  \n",
       "4            Primo Hiring             1-3 Yrs  \n",
       "5                     Aon             6-9 Yrs  \n",
       "6                     Aon             6-9 Yrs  \n",
       "7                 HCLTech             3-6 Yrs  \n",
       "8                     Aon             4-6 Yrs  \n",
       "9                     Aon             4-6 Yrs  "
      ]
     },
     "execution_count": 68,
     "metadata": {},
     "output_type": "execute_result"
    }
   ],
   "source": [
    "import pandas as pd\n",
    "df=pd.DataFrame({'titles':job_titles,'location':job_locations,'company name':company_name,'experience required':exp_req})\n",
    "df"
   ]
  },
  {
   "cell_type": "code",
   "execution_count": null,
   "id": "835b29da",
   "metadata": {},
   "outputs": [],
   "source": []
  },
  {
   "cell_type": "code",
   "execution_count": 38,
   "id": "ebf86e7e",
   "metadata": {},
   "outputs": [],
   "source": [
    "#question-3"
   ]
  },
  {
   "cell_type": "code",
   "execution_count": 266,
   "id": "99abbf41",
   "metadata": {},
   "outputs": [],
   "source": [
    "import selenium\n",
    "import pandas as pd\n",
    "from selenium import webdriver\n",
    "import warnings\n",
    "warnings.filterwarnings('ignore')\n",
    "from selenium.common.exceptions import StaleElementReferenceException,NoSuchElementException\n",
    "from selenium.webdriver.common.by import By\n",
    "import time"
   ]
  },
  {
   "cell_type": "code",
   "execution_count": 267,
   "id": "5e90b152",
   "metadata": {},
   "outputs": [],
   "source": [
    "driver=webdriver.Chrome(r\"C:\\Users\\RITVIK BHARDWAJ\\Desktop\\chrome web driver\\chrome.exe\")"
   ]
  },
  {
   "cell_type": "code",
   "execution_count": 268,
   "id": "78584ca0",
   "metadata": {},
   "outputs": [],
   "source": [
    "driver.get(\"https://www.flipkart.com/?ef_id=abc149afa0381bd43b3a2dcaefbf33a9:G:s&s_kwcid=AL!739!10!76484942419895!76485137405439&semcmpid=sem_F1167BY7_Brand_adcenter\")"
   ]
  },
  {
   "cell_type": "code",
   "execution_count": 269,
   "id": "7cbb0e9c",
   "metadata": {},
   "outputs": [],
   "source": [
    "product=driver.find_element(By.CLASS_NAME,'_3704LK')\n",
    "#that was the class name\n",
    "product.send_keys(\"sunglasses\")\n",
    "#that was to tell the pointer to jump on the search bar\n",
    "#send_keys is to when you want to right something on the box"
   ]
  },
  {
   "cell_type": "code",
   "execution_count": 270,
   "id": "8a92878a",
   "metadata": {},
   "outputs": [],
   "source": [
    "search=driver.find_element(By.CLASS_NAME,\"L0Z3Pu\")\n",
    "search.click()"
   ]
  },
  {
   "cell_type": "code",
   "execution_count": 271,
   "id": "dda8e18a",
   "metadata": {},
   "outputs": [],
   "source": [
    "brands=[]\n",
    "prices=[]\n",
    "descriptions=[]\n",
    "\n"
   ]
  },
  {
   "cell_type": "code",
   "execution_count": 280,
   "id": "47cfc1fb",
   "metadata": {},
   "outputs": [],
   "source": [
    "result_count=0"
   ]
  },
  {
   "cell_type": "code",
   "execution_count": 281,
   "id": "1ed536e4",
   "metadata": {},
   "outputs": [],
   "source": [
    "while result_count < 100:\n",
    "    brand_tags = driver.find_elements(By.XPATH, '//div[@class=\"_2WkVRV\"]')\n",
    "    for tag in brand_tags:\n",
    "        brandy = tag.text\n",
    "        brands.append(brandy)\n",
    "        result_count += 1\n",
    "        if result_count == 100:\n",
    "            break\n",
    "\n",
    "    price_tags = driver.find_elements(By.XPATH, '//div[@class=\"_30jeq3\"]')\n",
    "    for tag in price_tags:\n",
    "        pricey = tag.text\n",
    "        prices.append(pricey)\n",
    "\n",
    "    description_tags = driver.find_elements(By.XPATH, '//a[@class=\"IRpwTa\"]')\n",
    "    for tag in description_tags:\n",
    "        desy = tag.text\n",
    "        descriptions.append(desy)"
   ]
  },
  {
   "cell_type": "code",
   "execution_count": 273,
   "id": "3362b479",
   "metadata": {},
   "outputs": [],
   "source": [
    "next_button = driver.find_element(By.XPATH, '//a[@class=\"_1LKTO3\"]')\n",
    "next_button.click()\n"
   ]
  },
  {
   "cell_type": "code",
   "execution_count": 282,
   "id": "4f225356",
   "metadata": {},
   "outputs": [],
   "source": [
    "brands = brands[:100]\n",
    "prices = prices[:100]\n",
    "descriptions = descriptions[:100]"
   ]
  },
  {
   "cell_type": "code",
   "execution_count": 283,
   "id": "bf5ccd30",
   "metadata": {},
   "outputs": [],
   "source": [
    "length = min(len(brands), len(prices), len(descriptions))\n",
    "brands = brands[:length]\n",
    "prices = prices[:length]\n",
    "descriptions = descriptions[:length]\n"
   ]
  },
  {
   "cell_type": "code",
   "execution_count": 284,
   "id": "ce0e7741",
   "metadata": {},
   "outputs": [
    {
     "name": "stdout",
     "output_type": "stream",
     "text": [
      "               Brand   Price  \\\n",
      "0      VINCENT CHASE  ₹1,049   \n",
      "1         iCopertina    ₹199   \n",
      "2               SRPM    ₹149   \n",
      "3             PIRASO    ₹268   \n",
      "4          Elligator    ₹149   \n",
      "..               ...     ...   \n",
      "95           I Flash    ₹226   \n",
      "96          Fastrack    ₹649   \n",
      "97  Shaah Collection    ₹210   \n",
      "98            GANSTA    ₹292   \n",
      "99           I Flash    ₹236   \n",
      "\n",
      "                                          Description  \n",
      "0   by Lenskart Polarized, UV Protection Retro Squ...  \n",
      "1   UV Protection Retro Square Sunglasses (Free Size)  \n",
      "2              UV Protection Wayfarer Sunglasses (50)  \n",
      "3        UV Protection Aviator Sunglasses (Free Size)  \n",
      "4     UV Protection Aviator, Wayfarer Sunglasses (54)  \n",
      "..                                                ...  \n",
      "95  UV Protection, Polarized, Mirrored Rectangular...  \n",
      "96    Gradient, UV Protection Aviator Sunglasses (57)  \n",
      "97  UV Protection Aviator, Rectangular, Spectacle ...  \n",
      "98           UV Protection Over-sized Sunglasses (65)  \n",
      "99   UV Protection Rectangular Sunglasses (Free Size)  \n",
      "\n",
      "[100 rows x 3 columns]\n"
     ]
    }
   ],
   "source": [
    "data = {\n",
    "    'Brand': brands,\n",
    "    'Price': prices,\n",
    "    'Description': descriptions\n",
    "}\n",
    "\n",
    "df = pd.DataFrame(data)\n",
    "\n",
    "# Print the dataframe\n",
    "print(df)"
   ]
  },
  {
   "cell_type": "code",
   "execution_count": 285,
   "id": "c9e8848d",
   "metadata": {},
   "outputs": [
    {
     "data": {
      "text/html": [
       "<div>\n",
       "<style scoped>\n",
       "    .dataframe tbody tr th:only-of-type {\n",
       "        vertical-align: middle;\n",
       "    }\n",
       "\n",
       "    .dataframe tbody tr th {\n",
       "        vertical-align: top;\n",
       "    }\n",
       "\n",
       "    .dataframe thead th {\n",
       "        text-align: right;\n",
       "    }\n",
       "</style>\n",
       "<table border=\"1\" class=\"dataframe\">\n",
       "  <thead>\n",
       "    <tr style=\"text-align: right;\">\n",
       "      <th></th>\n",
       "      <th>brand pf product</th>\n",
       "      <th>price of product</th>\n",
       "      <th>written description</th>\n",
       "    </tr>\n",
       "  </thead>\n",
       "  <tbody>\n",
       "    <tr>\n",
       "      <th>0</th>\n",
       "      <td>VINCENT CHASE</td>\n",
       "      <td>₹1,049</td>\n",
       "      <td>by Lenskart Polarized, UV Protection Retro Squ...</td>\n",
       "    </tr>\n",
       "    <tr>\n",
       "      <th>1</th>\n",
       "      <td>iCopertina</td>\n",
       "      <td>₹199</td>\n",
       "      <td>UV Protection Retro Square Sunglasses (Free Size)</td>\n",
       "    </tr>\n",
       "    <tr>\n",
       "      <th>2</th>\n",
       "      <td>SRPM</td>\n",
       "      <td>₹149</td>\n",
       "      <td>UV Protection Wayfarer Sunglasses (50)</td>\n",
       "    </tr>\n",
       "    <tr>\n",
       "      <th>3</th>\n",
       "      <td>PIRASO</td>\n",
       "      <td>₹268</td>\n",
       "      <td>UV Protection Aviator Sunglasses (Free Size)</td>\n",
       "    </tr>\n",
       "    <tr>\n",
       "      <th>4</th>\n",
       "      <td>Elligator</td>\n",
       "      <td>₹149</td>\n",
       "      <td>UV Protection Aviator, Wayfarer Sunglasses (54)</td>\n",
       "    </tr>\n",
       "    <tr>\n",
       "      <th>...</th>\n",
       "      <td>...</td>\n",
       "      <td>...</td>\n",
       "      <td>...</td>\n",
       "    </tr>\n",
       "    <tr>\n",
       "      <th>95</th>\n",
       "      <td>I Flash</td>\n",
       "      <td>₹226</td>\n",
       "      <td>UV Protection, Polarized, Mirrored Rectangular...</td>\n",
       "    </tr>\n",
       "    <tr>\n",
       "      <th>96</th>\n",
       "      <td>Fastrack</td>\n",
       "      <td>₹649</td>\n",
       "      <td>Gradient, UV Protection Aviator Sunglasses (57)</td>\n",
       "    </tr>\n",
       "    <tr>\n",
       "      <th>97</th>\n",
       "      <td>Shaah Collection</td>\n",
       "      <td>₹210</td>\n",
       "      <td>UV Protection Aviator, Rectangular, Spectacle ...</td>\n",
       "    </tr>\n",
       "    <tr>\n",
       "      <th>98</th>\n",
       "      <td>GANSTA</td>\n",
       "      <td>₹292</td>\n",
       "      <td>UV Protection Over-sized Sunglasses (65)</td>\n",
       "    </tr>\n",
       "    <tr>\n",
       "      <th>99</th>\n",
       "      <td>I Flash</td>\n",
       "      <td>₹236</td>\n",
       "      <td>UV Protection Rectangular Sunglasses (Free Size)</td>\n",
       "    </tr>\n",
       "  </tbody>\n",
       "</table>\n",
       "<p>100 rows × 3 columns</p>\n",
       "</div>"
      ],
      "text/plain": [
       "    brand pf product price of product  \\\n",
       "0      VINCENT CHASE           ₹1,049   \n",
       "1         iCopertina             ₹199   \n",
       "2               SRPM             ₹149   \n",
       "3             PIRASO             ₹268   \n",
       "4          Elligator             ₹149   \n",
       "..               ...              ...   \n",
       "95           I Flash             ₹226   \n",
       "96          Fastrack             ₹649   \n",
       "97  Shaah Collection             ₹210   \n",
       "98            GANSTA             ₹292   \n",
       "99           I Flash             ₹236   \n",
       "\n",
       "                                  written description  \n",
       "0   by Lenskart Polarized, UV Protection Retro Squ...  \n",
       "1   UV Protection Retro Square Sunglasses (Free Size)  \n",
       "2              UV Protection Wayfarer Sunglasses (50)  \n",
       "3        UV Protection Aviator Sunglasses (Free Size)  \n",
       "4     UV Protection Aviator, Wayfarer Sunglasses (54)  \n",
       "..                                                ...  \n",
       "95  UV Protection, Polarized, Mirrored Rectangular...  \n",
       "96    Gradient, UV Protection Aviator Sunglasses (57)  \n",
       "97  UV Protection Aviator, Rectangular, Spectacle ...  \n",
       "98           UV Protection Over-sized Sunglasses (65)  \n",
       "99   UV Protection Rectangular Sunglasses (Free Size)  \n",
       "\n",
       "[100 rows x 3 columns]"
      ]
     },
     "execution_count": 285,
     "metadata": {},
     "output_type": "execute_result"
    }
   ],
   "source": [
    "import pandas as pd\n",
    "df=pd.DataFrame({'brand pf product':brands,'price of product':prices,'written description':descriptions})\n",
    "df"
   ]
  },
  {
   "cell_type": "code",
   "execution_count": null,
   "id": "cbdd8f40",
   "metadata": {},
   "outputs": [],
   "source": [
    "#question-5"
   ]
  },
  {
   "cell_type": "code",
   "execution_count": 295,
   "id": "b2df9446",
   "metadata": {},
   "outputs": [],
   "source": [
    "import selenium\n",
    "import pandas as pd\n",
    "from selenium import webdriver\n",
    "import warnings\n",
    "warnings.filterwarnings('ignore')\n",
    "from selenium.common.exceptions import StaleElementReferenceException,NoSuchElementException\n",
    "from selenium.webdriver.common.by import By\n",
    "import time"
   ]
  },
  {
   "cell_type": "code",
   "execution_count": 296,
   "id": "78cb3da9",
   "metadata": {},
   "outputs": [],
   "source": [
    "driver=webdriver.Chrome(r\"C:\\Users\\RITVIK BHARDWAJ\\Desktop\\chrome web driver\\chrome.exe\")"
   ]
  },
  {
   "cell_type": "code",
   "execution_count": 297,
   "id": "06336ca1",
   "metadata": {},
   "outputs": [],
   "source": [
    "driver.get(\"https://www.flipkart.com/apple-iphone-11-white-64-gb/product-reviews/itmfc6a7091eb20b?pid=MOBFWQ6BVWVEH3XE&lid=LSTMOBFWQ6BVWVEH3XEMXQMLO&marketplace=FLIPKART\")"
   ]
  },
  {
   "cell_type": "code",
   "execution_count": 298,
   "id": "669247a7",
   "metadata": {},
   "outputs": [],
   "source": [
    "ratings=[]\n",
    "review_summarys=[]\n",
    "full_reviews=[]"
   ]
  },
  {
   "cell_type": "code",
   "execution_count": 299,
   "id": "e0f92a23",
   "metadata": {},
   "outputs": [],
   "source": [
    "result_count=0"
   ]
  },
  {
   "cell_type": "code",
   "execution_count": 300,
   "id": "d84a3289",
   "metadata": {},
   "outputs": [],
   "source": [
    "while result_count < 100:\n",
    "    rating_tags = driver.find_elements(By.XPATH, '//div[@class=\"_3LWZlK _1BLPMq\"]')\n",
    "    for tag in rating_tags:\n",
    "        rate = tag.text\n",
    "        ratings.append(rate)\n",
    "        result_count += 1\n",
    "        if result_count == 100:\n",
    "            break\n",
    "\n",
    "    review_summary_tags = driver.find_elements(By.XPATH, '//p[@class=\"_2-N8zT\"]')\n",
    "    for tag in review_summary_tags:\n",
    "        summer = tag.text\n",
    "        review_summarys.append(summer)\n",
    "\n",
    "    full_review_tags = driver.find_elements(By.XPATH, '//div[@class=\"t-ZTKy\"]')\n",
    "    for tag in full_review_tags:\n",
    "        fullr = tag.text\n",
    "        full_reviews.append(fullr)"
   ]
  },
  {
   "cell_type": "code",
   "execution_count": 301,
   "id": "599270fb",
   "metadata": {},
   "outputs": [],
   "source": [
    "next_button = driver.find_element(By.XPATH, '//a[@class=\"_1LKTO3\"]')\n",
    "next_button.click()"
   ]
  },
  {
   "cell_type": "code",
   "execution_count": 302,
   "id": "53c19ac5",
   "metadata": {},
   "outputs": [],
   "source": [
    "ratings= ratings[:100]\n",
    "review_summarys = review_summarys[:100]\n",
    "full_reviews = full_reviews[:100]"
   ]
  },
  {
   "cell_type": "code",
   "execution_count": 303,
   "id": "3df05d98",
   "metadata": {},
   "outputs": [
    {
     "data": {
      "text/html": [
       "<div>\n",
       "<style scoped>\n",
       "    .dataframe tbody tr th:only-of-type {\n",
       "        vertical-align: middle;\n",
       "    }\n",
       "\n",
       "    .dataframe tbody tr th {\n",
       "        vertical-align: top;\n",
       "    }\n",
       "\n",
       "    .dataframe thead th {\n",
       "        text-align: right;\n",
       "    }\n",
       "</style>\n",
       "<table border=\"1\" class=\"dataframe\">\n",
       "  <thead>\n",
       "    <tr style=\"text-align: right;\">\n",
       "      <th></th>\n",
       "      <th>ratingss</th>\n",
       "      <th>review summarys</th>\n",
       "      <th>full reviews</th>\n",
       "    </tr>\n",
       "  </thead>\n",
       "  <tbody>\n",
       "    <tr>\n",
       "      <th>0</th>\n",
       "      <td>5</td>\n",
       "      <td>Simply awesome</td>\n",
       "      <td>Really satisfied with the Product I received.....</td>\n",
       "    </tr>\n",
       "    <tr>\n",
       "      <th>1</th>\n",
       "      <td>5</td>\n",
       "      <td>Perfect product!</td>\n",
       "      <td>Amazing phone with great cameras and better ba...</td>\n",
       "    </tr>\n",
       "    <tr>\n",
       "      <th>2</th>\n",
       "      <td>5</td>\n",
       "      <td>Best in the market!</td>\n",
       "      <td>Great iPhone very snappy experience as apple k...</td>\n",
       "    </tr>\n",
       "    <tr>\n",
       "      <th>3</th>\n",
       "      <td>4</td>\n",
       "      <td>Value-for-money</td>\n",
       "      <td>I'm Really happy with the product\\nDelivery wa...</td>\n",
       "    </tr>\n",
       "    <tr>\n",
       "      <th>4</th>\n",
       "      <td>5</td>\n",
       "      <td>Highly recommended</td>\n",
       "      <td>It's my first time to use iOS phone and I am l...</td>\n",
       "    </tr>\n",
       "    <tr>\n",
       "      <th>...</th>\n",
       "      <td>...</td>\n",
       "      <td>...</td>\n",
       "      <td>...</td>\n",
       "    </tr>\n",
       "    <tr>\n",
       "      <th>95</th>\n",
       "      <td>5</td>\n",
       "      <td>Worth every penny</td>\n",
       "      <td>Previously I was using one plus 3t it was a gr...</td>\n",
       "    </tr>\n",
       "    <tr>\n",
       "      <th>96</th>\n",
       "      <td>5</td>\n",
       "      <td>Perfect product!</td>\n",
       "      <td>Value for money\\n5 star rating\\nExcellent came...</td>\n",
       "    </tr>\n",
       "    <tr>\n",
       "      <th>97</th>\n",
       "      <td>4</td>\n",
       "      <td>Pretty good</td>\n",
       "      <td>I was using Iphone 6s and also Oneplus 6t. Bot...</td>\n",
       "    </tr>\n",
       "    <tr>\n",
       "      <th>98</th>\n",
       "      <td>5</td>\n",
       "      <td>Highly recommended</td>\n",
       "      <td>What a camera .....just awesome ..you can feel...</td>\n",
       "    </tr>\n",
       "    <tr>\n",
       "      <th>99</th>\n",
       "      <td>5</td>\n",
       "      <td>Great product</td>\n",
       "      <td>Amazing Powerful and Durable Gadget.\\n\\nI’m am...</td>\n",
       "    </tr>\n",
       "  </tbody>\n",
       "</table>\n",
       "<p>100 rows × 3 columns</p>\n",
       "</div>"
      ],
      "text/plain": [
       "   ratingss      review summarys  \\\n",
       "0         5       Simply awesome   \n",
       "1         5     Perfect product!   \n",
       "2         5  Best in the market!   \n",
       "3         4      Value-for-money   \n",
       "4         5   Highly recommended   \n",
       "..      ...                  ...   \n",
       "95        5    Worth every penny   \n",
       "96        5     Perfect product!   \n",
       "97        4          Pretty good   \n",
       "98        5   Highly recommended   \n",
       "99        5        Great product   \n",
       "\n",
       "                                         full reviews  \n",
       "0   Really satisfied with the Product I received.....  \n",
       "1   Amazing phone with great cameras and better ba...  \n",
       "2   Great iPhone very snappy experience as apple k...  \n",
       "3   I'm Really happy with the product\\nDelivery wa...  \n",
       "4   It's my first time to use iOS phone and I am l...  \n",
       "..                                                ...  \n",
       "95  Previously I was using one plus 3t it was a gr...  \n",
       "96  Value for money\\n5 star rating\\nExcellent came...  \n",
       "97  I was using Iphone 6s and also Oneplus 6t. Bot...  \n",
       "98  What a camera .....just awesome ..you can feel...  \n",
       "99  Amazing Powerful and Durable Gadget.\\n\\nI’m am...  \n",
       "\n",
       "[100 rows x 3 columns]"
      ]
     },
     "execution_count": 303,
     "metadata": {},
     "output_type": "execute_result"
    }
   ],
   "source": [
    "import pandas as pd\n",
    "df=pd.DataFrame({'ratingss':ratings,'review summarys':review_summarys,'full reviews':full_reviews})\n",
    "df"
   ]
  },
  {
   "cell_type": "code",
   "execution_count": 304,
   "id": "550cc002",
   "metadata": {},
   "outputs": [],
   "source": [
    "#question--6"
   ]
  },
  {
   "cell_type": "code",
   "execution_count": 305,
   "id": "47191f03",
   "metadata": {},
   "outputs": [],
   "source": [
    "import selenium\n",
    "import pandas as pd\n",
    "from selenium import webdriver\n",
    "import warnings\n",
    "warnings.filterwarnings('ignore')\n",
    "from selenium.common.exceptions import StaleElementReferenceException,NoSuchElementException\n",
    "from selenium.webdriver.common.by import By\n",
    "import time"
   ]
  },
  {
   "cell_type": "code",
   "execution_count": 306,
   "id": "d8ef527d",
   "metadata": {},
   "outputs": [],
   "source": [
    "driver=webdriver.Chrome(r\"C:\\Users\\RITVIK BHARDWAJ\\Desktop\\chrome web driver\\chrome.exe\")"
   ]
  },
  {
   "cell_type": "code",
   "execution_count": 307,
   "id": "449c1bf2",
   "metadata": {},
   "outputs": [],
   "source": [
    "driver.get(\"https://www.flipkart.com/search?q=sneakers&otracker=search&otracker1=search&marketplace=FLIPKART&as-show=on&as=off\")"
   ]
  },
  {
   "cell_type": "code",
   "execution_count": 308,
   "id": "e364ff38",
   "metadata": {},
   "outputs": [],
   "source": [
    "brands=[]\n",
    "prices=[]\n",
    "descriptions=[]\n",
    "\n"
   ]
  },
  {
   "cell_type": "code",
   "execution_count": 309,
   "id": "3fc45785",
   "metadata": {},
   "outputs": [],
   "source": [
    "result_count=0"
   ]
  },
  {
   "cell_type": "code",
   "execution_count": 310,
   "id": "446d9635",
   "metadata": {},
   "outputs": [],
   "source": [
    "while result_count < 100:\n",
    "    brand_tags = driver.find_elements(By.XPATH, '//div[@class=\"_2WkVRV\"]')\n",
    "    for tag in brand_tags:\n",
    "        brandy = tag.text\n",
    "        brands.append(brandy)\n",
    "        result_count += 1\n",
    "        if result_count == 100:\n",
    "            break\n",
    "\n",
    "    price_tags = driver.find_elements(By.XPATH, '//div[@class=\"_30jeq3\"]')\n",
    "    for tag in price_tags:\n",
    "        pricey = tag.text\n",
    "        prices.append(pricey)\n",
    "\n",
    "    description_tags = driver.find_elements(By.XPATH, '//a[@class=\"IRpwTa\"]')\n",
    "    for tag in description_tags:\n",
    "        desy = tag.text\n",
    "        descriptions.append(desy)"
   ]
  },
  {
   "cell_type": "code",
   "execution_count": 311,
   "id": "d6d83424",
   "metadata": {},
   "outputs": [],
   "source": [
    "length = min(len(brands), len(prices), len(descriptions))\n",
    "brands = brands[:length]\n",
    "prices = prices[:length]\n",
    "descriptions = descriptions[:length]\n"
   ]
  },
  {
   "cell_type": "code",
   "execution_count": 312,
   "id": "00beb964",
   "metadata": {},
   "outputs": [
    {
     "data": {
      "text/html": [
       "<div>\n",
       "<style scoped>\n",
       "    .dataframe tbody tr th:only-of-type {\n",
       "        vertical-align: middle;\n",
       "    }\n",
       "\n",
       "    .dataframe tbody tr th {\n",
       "        vertical-align: top;\n",
       "    }\n",
       "\n",
       "    .dataframe thead th {\n",
       "        text-align: right;\n",
       "    }\n",
       "</style>\n",
       "<table border=\"1\" class=\"dataframe\">\n",
       "  <thead>\n",
       "    <tr style=\"text-align: right;\">\n",
       "      <th></th>\n",
       "      <th>brand pf product</th>\n",
       "      <th>price of product</th>\n",
       "      <th>written description</th>\n",
       "    </tr>\n",
       "  </thead>\n",
       "  <tbody>\n",
       "    <tr>\n",
       "      <th>0</th>\n",
       "      <td>K- FOOTLANCE</td>\n",
       "      <td>₹499</td>\n",
       "      <td>Casual Sneakers White Outdoor Shoes For Boys A...</td>\n",
       "    </tr>\n",
       "    <tr>\n",
       "      <th>1</th>\n",
       "      <td>RapidBox</td>\n",
       "      <td>₹579</td>\n",
       "      <td>Sneakers For Men</td>\n",
       "    </tr>\n",
       "    <tr>\n",
       "      <th>2</th>\n",
       "      <td>aadi</td>\n",
       "      <td>₹299</td>\n",
       "      <td>Synthetic| Lightweight| Premiun| Comfort| Summ...</td>\n",
       "    </tr>\n",
       "    <tr>\n",
       "      <th>3</th>\n",
       "      <td>BIRDE</td>\n",
       "      <td>₹469</td>\n",
       "      <td>Combo Pack Of 2 Casual Shoes Sneakers For Men</td>\n",
       "    </tr>\n",
       "    <tr>\n",
       "      <th>4</th>\n",
       "      <td>BIRDE</td>\n",
       "      <td>₹469</td>\n",
       "      <td>Combo Pack Of 2 Casual Shoes Sneakers For Men</td>\n",
       "    </tr>\n",
       "    <tr>\n",
       "      <th>...</th>\n",
       "      <td>...</td>\n",
       "      <td>...</td>\n",
       "      <td>...</td>\n",
       "    </tr>\n",
       "    <tr>\n",
       "      <th>95</th>\n",
       "      <td>BIRDE</td>\n",
       "      <td>₹449</td>\n",
       "      <td>Sneakers For Men</td>\n",
       "    </tr>\n",
       "    <tr>\n",
       "      <th>96</th>\n",
       "      <td>asian</td>\n",
       "      <td>₹639</td>\n",
       "      <td>Modern Trendy Sneakers Shoes Sneakers For Men</td>\n",
       "    </tr>\n",
       "    <tr>\n",
       "      <th>97</th>\n",
       "      <td>K- FOOTLANCE</td>\n",
       "      <td>₹399</td>\n",
       "      <td>Stylish Comfortable Casual Sneakers Shoes for ...</td>\n",
       "    </tr>\n",
       "    <tr>\n",
       "      <th>98</th>\n",
       "      <td>World Wear Footwear</td>\n",
       "      <td>₹279</td>\n",
       "      <td>Sneakers For Men</td>\n",
       "    </tr>\n",
       "    <tr>\n",
       "      <th>99</th>\n",
       "      <td>BRUTON</td>\n",
       "      <td>₹239</td>\n",
       "      <td>sports Sneakers For Men</td>\n",
       "    </tr>\n",
       "  </tbody>\n",
       "</table>\n",
       "<p>100 rows × 3 columns</p>\n",
       "</div>"
      ],
      "text/plain": [
       "       brand pf product price of product  \\\n",
       "0          K- FOOTLANCE             ₹499   \n",
       "1              RapidBox             ₹579   \n",
       "2                  aadi             ₹299   \n",
       "3                 BIRDE             ₹469   \n",
       "4                 BIRDE             ₹469   \n",
       "..                  ...              ...   \n",
       "95                BIRDE             ₹449   \n",
       "96                asian             ₹639   \n",
       "97         K- FOOTLANCE             ₹399   \n",
       "98  World Wear Footwear             ₹279   \n",
       "99               BRUTON             ₹239   \n",
       "\n",
       "                                  written description  \n",
       "0   Casual Sneakers White Outdoor Shoes For Boys A...  \n",
       "1                                    Sneakers For Men  \n",
       "2   Synthetic| Lightweight| Premiun| Comfort| Summ...  \n",
       "3       Combo Pack Of 2 Casual Shoes Sneakers For Men  \n",
       "4       Combo Pack Of 2 Casual Shoes Sneakers For Men  \n",
       "..                                                ...  \n",
       "95                                   Sneakers For Men  \n",
       "96      Modern Trendy Sneakers Shoes Sneakers For Men  \n",
       "97  Stylish Comfortable Casual Sneakers Shoes for ...  \n",
       "98                                   Sneakers For Men  \n",
       "99                            sports Sneakers For Men  \n",
       "\n",
       "[100 rows x 3 columns]"
      ]
     },
     "execution_count": 312,
     "metadata": {},
     "output_type": "execute_result"
    }
   ],
   "source": [
    "import pandas as pd\n",
    "df=pd.DataFrame({'brand pf product':brands,'price of product':prices,'written description':descriptions})\n",
    "df"
   ]
  },
  {
   "cell_type": "code",
   "execution_count": 313,
   "id": "0511465b",
   "metadata": {},
   "outputs": [],
   "source": [
    "#question--7\n"
   ]
  },
  {
   "cell_type": "code",
   "execution_count": 339,
   "id": "dbd70c88",
   "metadata": {},
   "outputs": [],
   "source": [
    "import selenium\n",
    "import pandas as pd\n",
    "from selenium import webdriver\n",
    "import warnings\n",
    "warnings.filterwarnings('ignore')\n",
    "from selenium.common.exceptions import StaleElementReferenceException,NoSuchElementException\n",
    "from selenium.webdriver.common.by import By\n",
    "import time"
   ]
  },
  {
   "cell_type": "code",
   "execution_count": 340,
   "id": "b7cdd411",
   "metadata": {},
   "outputs": [],
   "source": [
    "driver=webdriver.Chrome(r\"C:\\Users\\RITVIK BHARDWAJ\\Desktop\\chrome web driver\\chrome.exe\")"
   ]
  },
  {
   "cell_type": "code",
   "execution_count": 341,
   "id": "4c5912a9",
   "metadata": {},
   "outputs": [],
   "source": [
    "driver.get(\"https://www.amazon.in/s?k=laptop&rh=n%3A1375424031%2Cp_n_feature_thirteen_browse-bin%3A12598163031&dc&ds=v1%3A6Tux315j3x%2BpOWHIKs9d2kHAuvvN3KUNOz84YeGZjLs&qid=1684426611&rnid=12598141031&ref=sr_nr_p_n_feature_thirteen_browse-bin_9\")"
   ]
  },
  {
   "cell_type": "code",
   "execution_count": 342,
   "id": "79b0932f",
   "metadata": {},
   "outputs": [],
   "source": [
    "titles=[]\n",
    "ratings=[]\n",
    "prices=[]"
   ]
  },
  {
   "cell_type": "code",
   "execution_count": 343,
   "id": "fd7c0065",
   "metadata": {},
   "outputs": [],
   "source": [
    "title_tags=driver.find_elements(By.XPATH,'//span[@class=\"a-size-medium a-color-base a-text-normal\"]')\n",
    "for i in title_tags[0:10]:\n",
    "    title=i.text\n",
    "    titles.append(title)"
   ]
  },
  {
   "cell_type": "code",
   "execution_count": 344,
   "id": "88146c54",
   "metadata": {},
   "outputs": [],
   "source": [
    "rating_tags=driver.find_elements(By.XPATH,'//span[@class=\"a-icon-alt\"]')\n",
    "for i in rating_tags[0:10]:\n",
    "    rat=i.text\n",
    "    ratings.append(rat)"
   ]
  },
  {
   "cell_type": "code",
   "execution_count": 345,
   "id": "1b210d3d",
   "metadata": {},
   "outputs": [],
   "source": [
    "price_tags=driver.find_elements(By.XPATH,'//span[@class=\"a-price-whole\"]')\n",
    "for i in price_tags[0:10]:\n",
    "    pri=i.text\n",
    "    prices.append(pri)"
   ]
  },
  {
   "cell_type": "code",
   "execution_count": 346,
   "id": "0a31cfc2",
   "metadata": {},
   "outputs": [
    {
     "data": {
      "text/html": [
       "<div>\n",
       "<style scoped>\n",
       "    .dataframe tbody tr th:only-of-type {\n",
       "        vertical-align: middle;\n",
       "    }\n",
       "\n",
       "    .dataframe tbody tr th {\n",
       "        vertical-align: top;\n",
       "    }\n",
       "\n",
       "    .dataframe thead th {\n",
       "        text-align: right;\n",
       "    }\n",
       "</style>\n",
       "<table border=\"1\" class=\"dataframe\">\n",
       "  <thead>\n",
       "    <tr style=\"text-align: right;\">\n",
       "      <th></th>\n",
       "      <th>product title</th>\n",
       "      <th>ratingss</th>\n",
       "      <th>price of product</th>\n",
       "    </tr>\n",
       "  </thead>\n",
       "  <tbody>\n",
       "    <tr>\n",
       "      <th>0</th>\n",
       "      <td>Acer Predator Helios Neo 16 Gaming Laptop 13th...</td>\n",
       "      <td></td>\n",
       "      <td>1,29,990</td>\n",
       "    </tr>\n",
       "    <tr>\n",
       "      <th>1</th>\n",
       "      <td>Lenovo ThinkPad E14 Intel Core i7 12th Gen 14\"...</td>\n",
       "      <td></td>\n",
       "      <td>98,990</td>\n",
       "    </tr>\n",
       "    <tr>\n",
       "      <th>2</th>\n",
       "      <td>ASUS TUF Gaming F15 (2022), 15.6\"(39.62 cms) F...</td>\n",
       "      <td></td>\n",
       "      <td>94,990</td>\n",
       "    </tr>\n",
       "    <tr>\n",
       "      <th>3</th>\n",
       "      <td>HP Envy x360 12th Gen Intel Core i7-13.3 inch(...</td>\n",
       "      <td></td>\n",
       "      <td>1,04,990</td>\n",
       "    </tr>\n",
       "    <tr>\n",
       "      <th>4</th>\n",
       "      <td>Dell Alienware x14 Gaming Laptop, Intel i7-127...</td>\n",
       "      <td></td>\n",
       "      <td>2,12,490</td>\n",
       "    </tr>\n",
       "    <tr>\n",
       "      <th>5</th>\n",
       "      <td>Samsung Galaxy Book2 (NP750) Intel 12th Gen co...</td>\n",
       "      <td></td>\n",
       "      <td>79,990</td>\n",
       "    </tr>\n",
       "    <tr>\n",
       "      <th>6</th>\n",
       "      <td>HP Victus Gaming Latest 12th Gen Intel Core i7...</td>\n",
       "      <td></td>\n",
       "      <td>79,990</td>\n",
       "    </tr>\n",
       "    <tr>\n",
       "      <th>7</th>\n",
       "      <td>HP Pavilion 14 12th Gen Intel Core i7 16GB SDR...</td>\n",
       "      <td></td>\n",
       "      <td>84,999</td>\n",
       "    </tr>\n",
       "    <tr>\n",
       "      <th>8</th>\n",
       "      <td>HP Pavilion Plus, 12th Gen Intel Core i7 16GB ...</td>\n",
       "      <td></td>\n",
       "      <td>93,749</td>\n",
       "    </tr>\n",
       "    <tr>\n",
       "      <th>9</th>\n",
       "      <td>MSI Katana 15, Intel 12th Gen. i7-12650H, 40CM...</td>\n",
       "      <td></td>\n",
       "      <td>91,990</td>\n",
       "    </tr>\n",
       "  </tbody>\n",
       "</table>\n",
       "</div>"
      ],
      "text/plain": [
       "                                       product title ratingss price of product\n",
       "0  Acer Predator Helios Neo 16 Gaming Laptop 13th...                  1,29,990\n",
       "1  Lenovo ThinkPad E14 Intel Core i7 12th Gen 14\"...                    98,990\n",
       "2  ASUS TUF Gaming F15 (2022), 15.6\"(39.62 cms) F...                    94,990\n",
       "3  HP Envy x360 12th Gen Intel Core i7-13.3 inch(...                  1,04,990\n",
       "4  Dell Alienware x14 Gaming Laptop, Intel i7-127...                  2,12,490\n",
       "5  Samsung Galaxy Book2 (NP750) Intel 12th Gen co...                    79,990\n",
       "6  HP Victus Gaming Latest 12th Gen Intel Core i7...                    79,990\n",
       "7  HP Pavilion 14 12th Gen Intel Core i7 16GB SDR...                    84,999\n",
       "8  HP Pavilion Plus, 12th Gen Intel Core i7 16GB ...                    93,749\n",
       "9  MSI Katana 15, Intel 12th Gen. i7-12650H, 40CM...                    91,990"
      ]
     },
     "execution_count": 346,
     "metadata": {},
     "output_type": "execute_result"
    }
   ],
   "source": [
    "import pandas as pd\n",
    "df=pd.DataFrame({'product title':titles,'ratingss':ratings,'price of product':prices})\n",
    "df"
   ]
  },
  {
   "cell_type": "code",
   "execution_count": 335,
   "id": "d2ee1575",
   "metadata": {},
   "outputs": [],
   "source": [
    "#question-7"
   ]
  },
  {
   "cell_type": "code",
   "execution_count": 1,
   "id": "5b2545d2",
   "metadata": {},
   "outputs": [],
   "source": [
    "import selenium\n",
    "import pandas as pd\n",
    "from selenium import webdriver\n",
    "import warnings\n",
    "warnings.filterwarnings('ignore')\n",
    "from selenium.common.exceptions import StaleElementReferenceException,NoSuchElementException\n",
    "from selenium.webdriver.common.by import By\n",
    "import time"
   ]
  },
  {
   "cell_type": "code",
   "execution_count": 2,
   "id": "61c2fed9",
   "metadata": {},
   "outputs": [],
   "source": [
    "driver=webdriver.Chrome(r\"C:\\Users\\RITVIK BHARDWAJ\\Desktop\\chrome web driver\\chrome.exe\")"
   ]
  },
  {
   "cell_type": "code",
   "execution_count": 3,
   "id": "71a60c5b",
   "metadata": {},
   "outputs": [],
   "source": [
    "driver.get('https://www.azquotes.com/top_quotes.html')"
   ]
  },
  {
   "cell_type": "code",
   "execution_count": 4,
   "id": "4a0a1d68",
   "metadata": {},
   "outputs": [],
   "source": [
    "quotes=[]\n",
    "authors=[]\n",
    "types=[]"
   ]
  },
  {
   "cell_type": "code",
   "execution_count": 5,
   "id": "65570acb",
   "metadata": {},
   "outputs": [
    {
     "ename": "NameError",
     "evalue": "name 'quote_texts' is not defined",
     "output_type": "error",
     "traceback": [
      "\u001b[1;31m---------------------------------------------------------------------------\u001b[0m",
      "\u001b[1;31mNameError\u001b[0m                                 Traceback (most recent call last)",
      "\u001b[1;32m~\\AppData\\Local\\Temp\\ipykernel_14708\\3121297462.py\u001b[0m in \u001b[0;36m<module>\u001b[1;34m\u001b[0m\n\u001b[0;32m      2\u001b[0m \u001b[1;33m\u001b[0m\u001b[0m\n\u001b[0;32m      3\u001b[0m \u001b[1;32mfor\u001b[0m \u001b[0mquote\u001b[0m \u001b[1;32min\u001b[0m \u001b[0mquote_tags\u001b[0m\u001b[1;33m:\u001b[0m\u001b[1;33m\u001b[0m\u001b[1;33m\u001b[0m\u001b[0m\n\u001b[1;32m----> 4\u001b[1;33m     \u001b[0mquote_texts\u001b[0m\u001b[1;33m.\u001b[0m\u001b[0mappend\u001b[0m\u001b[1;33m(\u001b[0m\u001b[0mquote\u001b[0m\u001b[1;33m.\u001b[0m\u001b[0mtext\u001b[0m\u001b[1;33m)\u001b[0m\u001b[1;33m\u001b[0m\u001b[1;33m\u001b[0m\u001b[0m\n\u001b[0m\u001b[0;32m      5\u001b[0m \u001b[0mprint\u001b[0m\u001b[1;33m(\u001b[0m\u001b[0mquote_texts\u001b[0m\u001b[1;33m)\u001b[0m\u001b[1;33m\u001b[0m\u001b[1;33m\u001b[0m\u001b[0m\n\u001b[0;32m      6\u001b[0m \u001b[1;33m\u001b[0m\u001b[0m\n",
      "\u001b[1;31mNameError\u001b[0m: name 'quote_texts' is not defined"
     ]
    }
   ],
   "source": [
    "quote_tags = driver.find_elements(By.XPATH, '//a[@class=\"title\"]')\n",
    "\n",
    "for quote in quote_tags:\n",
    "    quote_texts.append(quote.text)\n",
    "print(quote_texts)\n",
    "\n",
    "\n"
   ]
  },
  {
   "cell_type": "code",
   "execution_count": null,
   "id": "e389f22e",
   "metadata": {},
   "outputs": [],
   "source": [
    "author_tags = driver.find_elements(By.XPATH, '//div[@class=\"author\"]')\n",
    "for author in author_tags:\n",
    "    authors.append(author.text)\n",
    "\n",
    "print(authors)\n"
   ]
  },
  {
   "cell_type": "code",
   "execution_count": null,
   "id": "0bf04acc",
   "metadata": {},
   "outputs": [],
   "source": [
    "type_tags = driver.find_elements(By.XPATH, '//div[@class=\"tags\"]')\n",
    "for tag in type_tags:\n",
    "    types.append(tag.text)\n",
    "\n",
    "print(types)\n"
   ]
  },
  {
   "cell_type": "code",
   "execution_count": 7,
   "id": "f9e72347",
   "metadata": {},
   "outputs": [
    {
     "ename": "NameError",
     "evalue": "name 'author_tags' is not defined",
     "output_type": "error",
     "traceback": [
      "\u001b[1;31m---------------------------------------------------------------------------\u001b[0m",
      "\u001b[1;31mNameError\u001b[0m                                 Traceback (most recent call last)",
      "\u001b[1;32m~\\AppData\\Local\\Temp\\ipykernel_14708\\2240491900.py\u001b[0m in \u001b[0;36m<module>\u001b[1;34m\u001b[0m\n\u001b[0;32m      2\u001b[0m \u001b[1;33m\u001b[0m\u001b[0m\n\u001b[0;32m      3\u001b[0m \u001b[1;31m# Iterate over the found elements and extract their text\u001b[0m\u001b[1;33m\u001b[0m\u001b[1;33m\u001b[0m\u001b[0m\n\u001b[1;32m----> 4\u001b[1;33m \u001b[1;32mfor\u001b[0m \u001b[0mi\u001b[0m \u001b[1;32min\u001b[0m \u001b[0mrange\u001b[0m\u001b[1;33m(\u001b[0m\u001b[0mlen\u001b[0m\u001b[1;33m(\u001b[0m\u001b[0mauthor_tags\u001b[0m\u001b[1;33m)\u001b[0m\u001b[1;33m)\u001b[0m\u001b[1;33m:\u001b[0m\u001b[1;33m\u001b[0m\u001b[1;33m\u001b[0m\u001b[0m\n\u001b[0m\u001b[0;32m      5\u001b[0m     \u001b[0mauthor\u001b[0m \u001b[1;33m=\u001b[0m \u001b[0mauthor_tags\u001b[0m\u001b[1;33m[\u001b[0m\u001b[0mi\u001b[0m\u001b[1;33m]\u001b[0m\u001b[1;33m.\u001b[0m\u001b[0mtext\u001b[0m\u001b[1;33m\u001b[0m\u001b[1;33m\u001b[0m\u001b[0m\n\u001b[0;32m      6\u001b[0m     \u001b[0mquote\u001b[0m \u001b[1;33m=\u001b[0m \u001b[0mquote_tags\u001b[0m\u001b[1;33m[\u001b[0m\u001b[0mi\u001b[0m\u001b[1;33m]\u001b[0m\u001b[1;33m.\u001b[0m\u001b[0mtext\u001b[0m\u001b[1;33m\u001b[0m\u001b[1;33m\u001b[0m\u001b[0m\n",
      "\u001b[1;31mNameError\u001b[0m: name 'author_tags' is not defined"
     ]
    }
   ],
   "source": [
    "data = []\n",
    "\n",
    "\n",
    "for i in range(len(author_tags)):\n",
    "    author = author_tags[i].text\n",
    "    quote = quote_tags[i].text\n",
    "    type = type_tags[i].text\n",
    "    data.append({\n",
    "        'Author': author,\n",
    "        'Quote': quote,\n",
    "        'Type': type\n",
    "    })\n",
    "\n",
    "df = pd.DataFrame(data)\n",
    "df"
   ]
  },
  {
   "cell_type": "code",
   "execution_count": null,
   "id": "24ecf826",
   "metadata": {},
   "outputs": [],
   "source": []
  },
  {
   "cell_type": "code",
   "execution_count": 4,
   "id": "735822fb",
   "metadata": {},
   "outputs": [],
   "source": [
    "import selenium\n",
    "import pandas as pd\n",
    "from selenium import webdriver\n",
    "import warnings\n",
    "warnings.filterwarnings('ignore')\n",
    "from selenium.common.exceptions import StaleElementReferenceException,NoSuchElementException\n",
    "from selenium.webdriver.common.by import By\n",
    "import time"
   ]
  },
  {
   "cell_type": "code",
   "execution_count": 5,
   "id": "d39b0d50",
   "metadata": {},
   "outputs": [],
   "source": [
    "driver=webdriver.Chrome(r\"C:\\Users\\RITVIK BHARDWAJ\\Desktop\\chrome web driver\\chrome.exe\")"
   ]
  },
  {
   "cell_type": "code",
   "execution_count": 6,
   "id": "9659ad96",
   "metadata": {},
   "outputs": [],
   "source": [
    "driver.get('https://www.jagranjosh.com/')"
   ]
  },
  {
   "cell_type": "code",
   "execution_count": 7,
   "id": "87f9c859",
   "metadata": {},
   "outputs": [],
   "source": [
    "gk_button = driver.find_element(By.XPATH, '//a[text()=\"GK\"]')\n",
    "gk_button.click()"
   ]
  },
  {
   "cell_type": "code",
   "execution_count": 8,
   "id": "f48083be",
   "metadata": {},
   "outputs": [],
   "source": [
    "link = driver.find_element(By.XPATH, '//a[text()=\"List of all Prime Ministers of India\"]')\n",
    "link.click()"
   ]
  },
  {
   "cell_type": "code",
   "execution_count": 15,
   "id": "0a94964c",
   "metadata": {},
   "outputs": [
    {
     "name": "stdout",
     "output_type": "stream",
     "text": [
      "Jawahar Lal Nehru\n",
      "Gulzarilal Nanda (Acting)\n",
      "Lal Bahadur Shastri\n",
      "Gulzari Lal Nanda  (Acting)\n",
      "Indira Gandhi\n",
      "Morarji Desai\n",
      "Charan Singh\n",
      "Indira Gandhi\n",
      "Rajiv Gandhi\n",
      "V. P. Singh\n",
      "Chandra Shekhar\n",
      "P. V. Narasimha Rao\n",
      "Atal Bihari Vajpayee\n",
      "H. D. Deve Gowda\n",
      "Inder Kumar Gujral\n",
      "Atal Bihari Vajpayee\n",
      "Manmohan Singh\n",
      "Narendra Modi\n",
      "Narendra Modi\n"
     ]
    }
   ],
   "source": [
    "names = driver.find_elements(By.XPATH, '//div[@class=\"table-box\"]/table/tbody/tr/td[2]/p')\n",
    "\n",
    "name_list = []\n",
    "for name in names:\n",
    "    name_list.append(name.text)\n",
    "\n",
    "# Print the extracted names\n",
    "for name in name_list:\n",
    "    print(name)"
   ]
  },
  {
   "cell_type": "code",
   "execution_count": 16,
   "id": "fcc7dcb1",
   "metadata": {},
   "outputs": [
    {
     "name": "stdout",
     "output_type": "stream",
     "text": [
      "Born: (1889–1964)\n",
      "Dead: 15 August 1947 to 27 May 1964\n",
      "16 years, 286 days\n",
      "\n",
      "Born: (1898-1998)\n",
      "Dead: 27 May 1964 to 9 June 1964,\n",
      "13 days\n",
      "\n",
      "Born: (1904–1966)\n",
      "Dead: 9 June 1964 to 11 January 1966\n",
      "1 year, 216 days\n",
      "\n",
      "Born: (1898-1998)\n",
      "Dead: 11 January 1966 to 24 January 1966\n",
      "13 days\n",
      "\n",
      "Born: (1917–1984)\n",
      "Dead: 24 January 1966 to 24 March 1977\n",
      "11 years, 59 days\n",
      "\n",
      "Born: (1896–1995)\n",
      "Dead: 24 March 1977 to  28 July 1979 \n",
      "2 year, 126 days\n",
      "\n",
      "Born: (1902–1987)\n",
      "Dead: 28 July 1979 to 14 January 1980\n",
      "170 days\n",
      "\n",
      "Born: (1917–1984)\n",
      "Dead: 14 January 1980 to 31 October 1984\n",
      "4 years, 291 days\n",
      "\n",
      "Born: (1944–1991)\n",
      "Dead: 31 October 1984 to 2 December 1989\n",
      "5 years, 32 days\n",
      "\n",
      "Born: (1931–2008)\n",
      "Dead: 2 December 1989 to 10 November 1990\n",
      "343 days\n",
      "\n",
      "Born: (1927–2007)\n",
      "Dead: 10 November 1990 to 21 June 1991\n",
      "223 days\n",
      "\n",
      "Born: (1921–2004)\n",
      "Dead: 21 June 1991 to 16 May 1996\n",
      "4 years, 330 days\n",
      "\n",
      "Born: (1924- 2018)\n",
      "Dead: 16 May 1996 to 1 June 1996\n",
      "16 days\n",
      "\n",
      "Born: (born 1933)\n",
      "Dead: 1 June 1996 to 21 April 1997\n",
      "324 days\n",
      "\n",
      "Born: (1919–2012)\n",
      "Dead: 21 April 1997 to 19 March 1998 \n",
      "332 days\n",
      "\n",
      "Born: (1924-2018)\n",
      "Dead: 19 March 1998 to 22 May 2004 \n",
      "6 years, 64 days\n",
      "\n",
      "Born: (born 1932)\n",
      "Dead: 22 May 2004 to 26 May 2014   \n",
      "10 years, 4 days\n",
      "\n",
      "Born: (born 1950)\n",
      "Dead: 26 May 2014 - 2019\n",
      "\n",
      "Born: (born 1950)\n",
      "Dead: 30 May 2019- Incumbent\n",
      "\n",
      "            Born                                               Dead\n",
      "0    (1889–1964)  15 August 1947 to 27 May 1964\\n16 years, 286 days\n",
      "1    (1898-1998)               27 May 1964 to 9 June 1964,\\n13 days\n",
      "2    (1904–1966)   9 June 1964 to 11 January 1966\\n1 year, 216 days\n",
      "3    (1898-1998)        11 January 1966 to 24 January 1966\\n13 days\n",
      "4    (1917–1984)  24 January 1966 to 24 March 1977\\n11 years, 59...\n",
      "5    (1896–1995)  24 March 1977 to  28 July 1979 \\n2 year, 126 days\n",
      "6    (1902–1987)          28 July 1979 to 14 January 1980\\n170 days\n",
      "7    (1917–1984)  14 January 1980 to 31 October 1984\\n4 years, 2...\n",
      "8    (1944–1991)  31 October 1984 to 2 December 1989\\n5 years, 3...\n",
      "9    (1931–2008)      2 December 1989 to 10 November 1990\\n343 days\n",
      "10   (1927–2007)         10 November 1990 to 21 June 1991\\n223 days\n",
      "11   (1921–2004)     21 June 1991 to 16 May 1996\\n4 years, 330 days\n",
      "12  (1924- 2018)                16 May 1996 to 1 June 1996\\n16 days\n",
      "13   (born 1933)             1 June 1996 to 21 April 1997\\n324 days\n",
      "14   (1919–2012)          21 April 1997 to 19 March 1998 \\n332 days\n",
      "15   (1924-2018)    19 March 1998 to 22 May 2004 \\n6 years, 64 days\n",
      "16   (born 1932)    22 May 2004 to 26 May 2014   \\n10 years, 4 days\n",
      "17   (born 1950)                                 26 May 2014 - 2019\n",
      "18   (born 1950)                             30 May 2019- Incumbent\n"
     ]
    }
   ],
   "source": [
    "born_values = []\n",
    "dead_values = []\n",
    "\n",
    "rows = driver.find_elements(By.XPATH, '//div[@class=\"table-box\"]/table/tbody/tr')\n",
    "\n",
    "for row in rows:\n",
    "    cells = row.find_elements(By.TAG_NAME, 'td')\n",
    "    \n",
    "    if len(cells) >= 4:\n",
    "        born_values.append(cells[2].text)\n",
    "        dead_values.append(cells[3].text)\n",
    "\n",
    "# Print the extracted values\n",
    "for i in range(len(born_values)):\n",
    "    print(\"Born:\", born_values[i])\n",
    "    print(\"Dead:\", dead_values[i])\n",
    "    print()\n",
    "\n",
    "# Alternatively, you can store the values in a pandas DataFrame\n",
    "data = {\n",
    "    'Born': born_values,\n",
    "    'Dead': dead_values\n",
    "}\n",
    "\n",
    "df = pd.DataFrame(data)\n",
    "print(df)\n"
   ]
  },
  {
   "cell_type": "code",
   "execution_count": 17,
   "id": "3f58d304",
   "metadata": {},
   "outputs": [
    {
     "name": "stdout",
     "output_type": "stream",
     "text": [
      "Term of Office: The first prime minister of India and the longest-serving PM of India, the first to die in office.\n",
      "\n",
      "Term of Office: First acting PM of India\n",
      "\n",
      "Term of Office: He has given the slogan of 'Jai Jawan Jai Kisan' during the Indo-Pak war of 1965\n",
      "\n",
      "Term of Office: -\n",
      "\n",
      "Term of Office: First female Prime Minister of India\n",
      "\n",
      "Term of Office: Oldest to become PM (81 years old) and first to resign from office\n",
      "\n",
      "Term of Office: Only PM who did not face the Parliament\n",
      "\n",
      "Term of Office: The first lady who served as PM for the second term\n",
      "\n",
      "Term of Office: Youngest to become PM (40 years old)\n",
      "\n",
      "Term of Office: First PM to step down after a vote of no confidence\n",
      "\n",
      "Term of Office: He belongs to  Samajwadi Janata Party\n",
      "\n",
      "Term of Office: First PM from South India\n",
      "\n",
      "Term of Office: PM for shortest tenure\n",
      "\n",
      "Term of Office: He belongs to  Janata Dal\n",
      "\n",
      "Term of Office: ------\n",
      "\n",
      "Term of Office:  The first non-congress PM who completed a full term as PM\n",
      "\n",
      "Term of Office:  First Sikh PM\n",
      "\n",
      "Term of Office: 4th Prime Minister of India who served two consecutive tenures\n",
      "\n",
      "Term of Office: First non-congress PM with two consecutive tenures\n",
      "\n",
      "                                       Term of Office\n",
      "0   The first prime minister of India and the long...\n",
      "1                            First acting PM of India\n",
      "2   He has given the slogan of 'Jai Jawan Jai Kisa...\n",
      "3                                                   -\n",
      "4                First female Prime Minister of India\n",
      "5   Oldest to become PM (81 years old) and first t...\n",
      "6             Only PM who did not face the Parliament\n",
      "7   The first lady who served as PM for the second...\n",
      "8                Youngest to become PM (40 years old)\n",
      "9   First PM to step down after a vote of no confi...\n",
      "10              He belongs to  Samajwadi Janata Party\n",
      "11                          First PM from South India\n",
      "12                             PM for shortest tenure\n",
      "13                          He belongs to  Janata Dal\n",
      "14                                             ------\n",
      "15   The first non-congress PM who completed a ful...\n",
      "16                                      First Sikh PM\n",
      "17  4th Prime Minister of India who served two con...\n",
      "18  First non-congress PM with two consecutive ten...\n"
     ]
    }
   ],
   "source": [
    "term_of_office_values = []\n",
    "\n",
    "rows = driver.find_elements(By.XPATH, '//div[@class=\"table-box\"]/table/tbody/tr')\n",
    "\n",
    "for row in rows:\n",
    "    cells = row.find_elements(By.TAG_NAME, 'td')\n",
    "    \n",
    "    if len(cells) >= 5:\n",
    "        term_of_office_values.append(cells[4].text)\n",
    "\n",
    "# Print the extracted values\n",
    "for value in term_of_office_values:\n",
    "    print(\"Term of Office:\", value)\n",
    "    print()\n",
    "\n",
    "# Alternatively, you can store the values in a pandas DataFrame\n",
    "data = {\n",
    "    'Term of Office': term_of_office_values\n",
    "}\n",
    "\n",
    "df = pd.DataFrame(data)\n",
    "print(df)\n"
   ]
  },
  {
   "cell_type": "code",
   "execution_count": 19,
   "id": "d3df4f78",
   "metadata": {},
   "outputs": [
    {
     "data": {
      "text/html": [
       "<div>\n",
       "<style scoped>\n",
       "    .dataframe tbody tr th:only-of-type {\n",
       "        vertical-align: middle;\n",
       "    }\n",
       "\n",
       "    .dataframe tbody tr th {\n",
       "        vertical-align: top;\n",
       "    }\n",
       "\n",
       "    .dataframe thead th {\n",
       "        text-align: right;\n",
       "    }\n",
       "</style>\n",
       "<table border=\"1\" class=\"dataframe\">\n",
       "  <thead>\n",
       "    <tr style=\"text-align: right;\">\n",
       "      <th></th>\n",
       "      <th>namess</th>\n",
       "      <th>born_valuess</th>\n",
       "      <th>dead_valuees</th>\n",
       "      <th>term of office</th>\n",
       "    </tr>\n",
       "  </thead>\n",
       "  <tbody>\n",
       "    <tr>\n",
       "      <th>0</th>\n",
       "      <td>&lt;selenium.webdriver.remote.webelement.WebEleme...</td>\n",
       "      <td>(1889–1964)</td>\n",
       "      <td>15 August 1947 to 27 May 1964\\n16 years, 286 days</td>\n",
       "      <td>The first prime minister of India and the long...</td>\n",
       "    </tr>\n",
       "    <tr>\n",
       "      <th>1</th>\n",
       "      <td>&lt;selenium.webdriver.remote.webelement.WebEleme...</td>\n",
       "      <td>(1898-1998)</td>\n",
       "      <td>27 May 1964 to 9 June 1964,\\n13 days</td>\n",
       "      <td>First acting PM of India</td>\n",
       "    </tr>\n",
       "    <tr>\n",
       "      <th>2</th>\n",
       "      <td>&lt;selenium.webdriver.remote.webelement.WebEleme...</td>\n",
       "      <td>(1904–1966)</td>\n",
       "      <td>9 June 1964 to 11 January 1966\\n1 year, 216 days</td>\n",
       "      <td>He has given the slogan of 'Jai Jawan Jai Kisa...</td>\n",
       "    </tr>\n",
       "    <tr>\n",
       "      <th>3</th>\n",
       "      <td>&lt;selenium.webdriver.remote.webelement.WebEleme...</td>\n",
       "      <td>(1898-1998)</td>\n",
       "      <td>11 January 1966 to 24 January 1966\\n13 days</td>\n",
       "      <td>-</td>\n",
       "    </tr>\n",
       "    <tr>\n",
       "      <th>4</th>\n",
       "      <td>&lt;selenium.webdriver.remote.webelement.WebEleme...</td>\n",
       "      <td>(1917–1984)</td>\n",
       "      <td>24 January 1966 to 24 March 1977\\n11 years, 59...</td>\n",
       "      <td>First female Prime Minister of India</td>\n",
       "    </tr>\n",
       "    <tr>\n",
       "      <th>5</th>\n",
       "      <td>&lt;selenium.webdriver.remote.webelement.WebEleme...</td>\n",
       "      <td>(1896–1995)</td>\n",
       "      <td>24 March 1977 to  28 July 1979 \\n2 year, 126 days</td>\n",
       "      <td>Oldest to become PM (81 years old) and first t...</td>\n",
       "    </tr>\n",
       "    <tr>\n",
       "      <th>6</th>\n",
       "      <td>&lt;selenium.webdriver.remote.webelement.WebEleme...</td>\n",
       "      <td>(1902–1987)</td>\n",
       "      <td>28 July 1979 to 14 January 1980\\n170 days</td>\n",
       "      <td>Only PM who did not face the Parliament</td>\n",
       "    </tr>\n",
       "    <tr>\n",
       "      <th>7</th>\n",
       "      <td>&lt;selenium.webdriver.remote.webelement.WebEleme...</td>\n",
       "      <td>(1917–1984)</td>\n",
       "      <td>14 January 1980 to 31 October 1984\\n4 years, 2...</td>\n",
       "      <td>The first lady who served as PM for the second...</td>\n",
       "    </tr>\n",
       "    <tr>\n",
       "      <th>8</th>\n",
       "      <td>&lt;selenium.webdriver.remote.webelement.WebEleme...</td>\n",
       "      <td>(1944–1991)</td>\n",
       "      <td>31 October 1984 to 2 December 1989\\n5 years, 3...</td>\n",
       "      <td>Youngest to become PM (40 years old)</td>\n",
       "    </tr>\n",
       "    <tr>\n",
       "      <th>9</th>\n",
       "      <td>&lt;selenium.webdriver.remote.webelement.WebEleme...</td>\n",
       "      <td>(1931–2008)</td>\n",
       "      <td>2 December 1989 to 10 November 1990\\n343 days</td>\n",
       "      <td>First PM to step down after a vote of no confi...</td>\n",
       "    </tr>\n",
       "    <tr>\n",
       "      <th>10</th>\n",
       "      <td>&lt;selenium.webdriver.remote.webelement.WebEleme...</td>\n",
       "      <td>(1927–2007)</td>\n",
       "      <td>10 November 1990 to 21 June 1991\\n223 days</td>\n",
       "      <td>He belongs to  Samajwadi Janata Party</td>\n",
       "    </tr>\n",
       "    <tr>\n",
       "      <th>11</th>\n",
       "      <td>&lt;selenium.webdriver.remote.webelement.WebEleme...</td>\n",
       "      <td>(1921–2004)</td>\n",
       "      <td>21 June 1991 to 16 May 1996\\n4 years, 330 days</td>\n",
       "      <td>First PM from South India</td>\n",
       "    </tr>\n",
       "    <tr>\n",
       "      <th>12</th>\n",
       "      <td>&lt;selenium.webdriver.remote.webelement.WebEleme...</td>\n",
       "      <td>(1924- 2018)</td>\n",
       "      <td>16 May 1996 to 1 June 1996\\n16 days</td>\n",
       "      <td>PM for shortest tenure</td>\n",
       "    </tr>\n",
       "    <tr>\n",
       "      <th>13</th>\n",
       "      <td>&lt;selenium.webdriver.remote.webelement.WebEleme...</td>\n",
       "      <td>(born 1933)</td>\n",
       "      <td>1 June 1996 to 21 April 1997\\n324 days</td>\n",
       "      <td>He belongs to  Janata Dal</td>\n",
       "    </tr>\n",
       "    <tr>\n",
       "      <th>14</th>\n",
       "      <td>&lt;selenium.webdriver.remote.webelement.WebEleme...</td>\n",
       "      <td>(1919–2012)</td>\n",
       "      <td>21 April 1997 to 19 March 1998 \\n332 days</td>\n",
       "      <td>------</td>\n",
       "    </tr>\n",
       "    <tr>\n",
       "      <th>15</th>\n",
       "      <td>&lt;selenium.webdriver.remote.webelement.WebEleme...</td>\n",
       "      <td>(1924-2018)</td>\n",
       "      <td>19 March 1998 to 22 May 2004 \\n6 years, 64 days</td>\n",
       "      <td>The first non-congress PM who completed a ful...</td>\n",
       "    </tr>\n",
       "    <tr>\n",
       "      <th>16</th>\n",
       "      <td>&lt;selenium.webdriver.remote.webelement.WebEleme...</td>\n",
       "      <td>(born 1932)</td>\n",
       "      <td>22 May 2004 to 26 May 2014   \\n10 years, 4 days</td>\n",
       "      <td>First Sikh PM</td>\n",
       "    </tr>\n",
       "    <tr>\n",
       "      <th>17</th>\n",
       "      <td>&lt;selenium.webdriver.remote.webelement.WebEleme...</td>\n",
       "      <td>(born 1950)</td>\n",
       "      <td>26 May 2014 - 2019</td>\n",
       "      <td>4th Prime Minister of India who served two con...</td>\n",
       "    </tr>\n",
       "    <tr>\n",
       "      <th>18</th>\n",
       "      <td>&lt;selenium.webdriver.remote.webelement.WebEleme...</td>\n",
       "      <td>(born 1950)</td>\n",
       "      <td>30 May 2019- Incumbent</td>\n",
       "      <td>First non-congress PM with two consecutive ten...</td>\n",
       "    </tr>\n",
       "  </tbody>\n",
       "</table>\n",
       "</div>"
      ],
      "text/plain": [
       "                                               namess  born_valuess  \\\n",
       "0   <selenium.webdriver.remote.webelement.WebEleme...   (1889–1964)   \n",
       "1   <selenium.webdriver.remote.webelement.WebEleme...   (1898-1998)   \n",
       "2   <selenium.webdriver.remote.webelement.WebEleme...   (1904–1966)   \n",
       "3   <selenium.webdriver.remote.webelement.WebEleme...   (1898-1998)   \n",
       "4   <selenium.webdriver.remote.webelement.WebEleme...   (1917–1984)   \n",
       "5   <selenium.webdriver.remote.webelement.WebEleme...   (1896–1995)   \n",
       "6   <selenium.webdriver.remote.webelement.WebEleme...   (1902–1987)   \n",
       "7   <selenium.webdriver.remote.webelement.WebEleme...   (1917–1984)   \n",
       "8   <selenium.webdriver.remote.webelement.WebEleme...   (1944–1991)   \n",
       "9   <selenium.webdriver.remote.webelement.WebEleme...   (1931–2008)   \n",
       "10  <selenium.webdriver.remote.webelement.WebEleme...   (1927–2007)   \n",
       "11  <selenium.webdriver.remote.webelement.WebEleme...   (1921–2004)   \n",
       "12  <selenium.webdriver.remote.webelement.WebEleme...  (1924- 2018)   \n",
       "13  <selenium.webdriver.remote.webelement.WebEleme...   (born 1933)   \n",
       "14  <selenium.webdriver.remote.webelement.WebEleme...   (1919–2012)   \n",
       "15  <selenium.webdriver.remote.webelement.WebEleme...   (1924-2018)   \n",
       "16  <selenium.webdriver.remote.webelement.WebEleme...   (born 1932)   \n",
       "17  <selenium.webdriver.remote.webelement.WebEleme...   (born 1950)   \n",
       "18  <selenium.webdriver.remote.webelement.WebEleme...   (born 1950)   \n",
       "\n",
       "                                         dead_valuees  \\\n",
       "0   15 August 1947 to 27 May 1964\\n16 years, 286 days   \n",
       "1                27 May 1964 to 9 June 1964,\\n13 days   \n",
       "2    9 June 1964 to 11 January 1966\\n1 year, 216 days   \n",
       "3         11 January 1966 to 24 January 1966\\n13 days   \n",
       "4   24 January 1966 to 24 March 1977\\n11 years, 59...   \n",
       "5   24 March 1977 to  28 July 1979 \\n2 year, 126 days   \n",
       "6           28 July 1979 to 14 January 1980\\n170 days   \n",
       "7   14 January 1980 to 31 October 1984\\n4 years, 2...   \n",
       "8   31 October 1984 to 2 December 1989\\n5 years, 3...   \n",
       "9       2 December 1989 to 10 November 1990\\n343 days   \n",
       "10         10 November 1990 to 21 June 1991\\n223 days   \n",
       "11     21 June 1991 to 16 May 1996\\n4 years, 330 days   \n",
       "12                16 May 1996 to 1 June 1996\\n16 days   \n",
       "13             1 June 1996 to 21 April 1997\\n324 days   \n",
       "14          21 April 1997 to 19 March 1998 \\n332 days   \n",
       "15    19 March 1998 to 22 May 2004 \\n6 years, 64 days   \n",
       "16    22 May 2004 to 26 May 2014   \\n10 years, 4 days   \n",
       "17                                 26 May 2014 - 2019   \n",
       "18                             30 May 2019- Incumbent   \n",
       "\n",
       "                                       term of office  \n",
       "0   The first prime minister of India and the long...  \n",
       "1                            First acting PM of India  \n",
       "2   He has given the slogan of 'Jai Jawan Jai Kisa...  \n",
       "3                                                   -  \n",
       "4                First female Prime Minister of India  \n",
       "5   Oldest to become PM (81 years old) and first t...  \n",
       "6             Only PM who did not face the Parliament  \n",
       "7   The first lady who served as PM for the second...  \n",
       "8                Youngest to become PM (40 years old)  \n",
       "9   First PM to step down after a vote of no confi...  \n",
       "10              He belongs to  Samajwadi Janata Party  \n",
       "11                          First PM from South India  \n",
       "12                             PM for shortest tenure  \n",
       "13                          He belongs to  Janata Dal  \n",
       "14                                             ------  \n",
       "15   The first non-congress PM who completed a ful...  \n",
       "16                                      First Sikh PM  \n",
       "17  4th Prime Minister of India who served two con...  \n",
       "18  First non-congress PM with two consecutive ten...  "
      ]
     },
     "execution_count": 19,
     "metadata": {},
     "output_type": "execute_result"
    }
   ],
   "source": [
    "import pandas as pd\n",
    "df=pd.DataFrame({'namess':names,'born_valuess':born_values,'dead_valuees':dead_values,'term of office':term_of_office_values})\n",
    "df"
   ]
  },
  {
   "cell_type": "code",
   "execution_count": null,
   "id": "c723034e",
   "metadata": {},
   "outputs": [],
   "source": []
  },
  {
   "cell_type": "code",
   "execution_count": null,
   "id": "1297fbe9",
   "metadata": {},
   "outputs": [],
   "source": []
  },
  {
   "cell_type": "code",
   "execution_count": null,
   "id": "5bbfb75b",
   "metadata": {},
   "outputs": [],
   "source": []
  },
  {
   "cell_type": "code",
   "execution_count": null,
   "id": "f076c2c8",
   "metadata": {},
   "outputs": [],
   "source": []
  },
  {
   "cell_type": "code",
   "execution_count": null,
   "id": "867c33cd",
   "metadata": {},
   "outputs": [],
   "source": []
  },
  {
   "cell_type": "code",
   "execution_count": null,
   "id": "4f4657bb",
   "metadata": {},
   "outputs": [],
   "source": []
  },
  {
   "cell_type": "code",
   "execution_count": null,
   "id": "3b81e8e1",
   "metadata": {},
   "outputs": [],
   "source": [
    "#This task will be done in following steps: \n",
    "#1.\tFirst get the webpage https://www.motor1.com/ \n",
    "#2.\tThen You have to click on the List option from Dropdown menu on left side. \n",
    "#3.\tThen click on 50 most expensive cars in the world.. \n",
    "#4.\tThen scrap the mentioned data and make the dataframe. \n"
   ]
  },
  {
   "cell_type": "code",
   "execution_count": 38,
   "id": "5cd286b6",
   "metadata": {},
   "outputs": [],
   "source": [
    "import selenium\n",
    "import pandas as pd\n",
    "from selenium import webdriver\n",
    "import warnings\n",
    "warnings.filterwarnings('ignore')\n",
    "from selenium.common.exceptions import StaleElementReferenceException,NoSuchElementException\n",
    "from selenium.webdriver.common.by import By\n",
    "import time"
   ]
  },
  {
   "cell_type": "code",
   "execution_count": 39,
   "id": "14cce844",
   "metadata": {},
   "outputs": [],
   "source": [
    "driver=webdriver.Chrome(r\"C:\\Users\\RITVIK BHARDWAJ\\Desktop\\chrome web driver\\chrome.exe\")"
   ]
  },
  {
   "cell_type": "code",
   "execution_count": 40,
   "id": "402e1694",
   "metadata": {},
   "outputs": [],
   "source": [
    "driver.get('https://www.motor1.com/')"
   ]
  },
  {
   "cell_type": "code",
   "execution_count": 41,
   "id": "ec9a1a55",
   "metadata": {},
   "outputs": [],
   "source": [
    "button=driver.find_element(By.XPATH,'//div[@class=\"m1-hamburger-button\"]')\n",
    "button.click()"
   ]
  },
  {
   "cell_type": "code",
   "execution_count": 44,
   "id": "332516b7",
   "metadata": {},
   "outputs": [],
   "source": [
    "button_a=driver.find_element(By.XPATH,'//button[@class=\"dropdown-toggle\"]')\n",
    "button_a.click()"
   ]
  },
  {
   "cell_type": "code",
   "execution_count": 47,
   "id": "b00b1342",
   "metadata": {},
   "outputs": [],
   "source": [
    "button_list=driver.find_element(By.XPATH,'/html/body/div[4]/div[1]/div[3]/ul/li[6]/ul/li[1]/a')\n",
    "button_list.click()"
   ]
  },
  {
   "cell_type": "code",
   "execution_count": 48,
   "id": "66f6c019",
   "metadata": {},
   "outputs": [],
   "source": [
    "item = driver.find_element(By.XPATH, '/html/body/div[3]/div[8]/div[1]/div[1]/div/div/div[7]/div/div[1]/h3/a')\n",
    "item.click()"
   ]
  },
  {
   "cell_type": "code",
   "execution_count": 49,
   "id": "a6a5e09a",
   "metadata": {},
   "outputs": [],
   "source": [
    "cars_name=[]"
   ]
  },
  {
   "cell_type": "code",
   "execution_count": 76,
   "id": "cee17070",
   "metadata": {},
   "outputs": [],
   "source": [
    "car_name_tags=driver.find_elements(By.XPATH,'//h3[@class=\"subheader\"]')\n",
    "for i in car_name_tags[:50]:\n",
    "    car=i.text\n",
    "    cars_name.append(car)"
   ]
  },
  {
   "cell_type": "code",
   "execution_count": 77,
   "id": "8ce23d4c",
   "metadata": {},
   "outputs": [
    {
     "name": "stdout",
     "output_type": "stream",
     "text": [
      "['De Tomaso P72', 'Ferrari LaFerrari', 'Pagani Huayra', 'McLaren Elva', 'Czinger 21C', 'Ferrari Monza', 'Gordon Murray T.33', 'Koenigsegg Gemera', 'Zenvo TSR-S', 'Hennessey Venom F5', 'Bentley Bacalar', 'Hispano Suiza Carmen Boulogne', 'Bentley Mulliner Batur', 'Deus Vayanne', 'SSC Tuatara', 'Lotus Evija', 'Aston Martin Vulcan', 'Delage D12', 'McLaren Speedtail', 'Rimac Nevera', 'Pagani Utopia', 'Pininfarina Battista', 'Ferrari FXX K Evo', 'Gordon Murray T.50', 'Lamborghini Countach', 'Mercedes-AMG Project One', 'Aston Martin Victor', 'Hennessey Venom F5 Roadster', 'Koenigsegg Jesko', 'Aston Martin Valkyrie', 'W Motors Lykan Hypersport', 'McLaren Solus', 'Pagani Huayra Roadster BC', 'Bugatti Chiron Pur Sport', 'Lamborghini Sian', 'Koenigsegg CC850', 'Bugatti Chiron Super Sport 300+', 'Lamborghini Veneno', 'Bugatti Bolide', 'Bugatti Mistral', 'Pagani Huayra Imola', 'Bugatti Divo', 'SP Automotive Chaos', 'Pagani Codalunga', 'Mercedes-Maybach Exelero', 'Bugatti Centodieci', 'Bugatti Chiron Profilée', 'Rolls-Royce Sweptail', 'Bugatti La Voiture Noire', 'De Tomaso P72', 'Ferrari LaFerrari', 'Pagani Huayra', 'McLaren Elva', 'Czinger 21C', 'Ferrari Monza', 'Gordon Murray T.33', 'Koenigsegg Gemera', 'Zenvo TSR-S', 'Hennessey Venom F5', 'Bentley Bacalar', 'Hispano Suiza Carmen Boulogne', 'Bentley Mulliner Batur', 'Deus Vayanne', 'SSC Tuatara', 'Lotus Evija', 'Aston Martin Vulcan', 'Delage D12', 'McLaren Speedtail', 'Rimac Nevera', 'Pagani Utopia', 'Pininfarina Battista', 'Ferrari FXX K Evo', 'Gordon Murray T.50', 'Lamborghini Countach', 'Mercedes-AMG Project One', 'Aston Martin Victor', 'Hennessey Venom F5 Roadster', 'Koenigsegg Jesko', 'Aston Martin Valkyrie', 'W Motors Lykan Hypersport', 'McLaren Solus', 'Pagani Huayra Roadster BC', 'Bugatti Chiron Pur Sport', 'Lamborghini Sian', 'Koenigsegg CC850', 'Bugatti Chiron Super Sport 300+', 'Lamborghini Veneno', 'Bugatti Bolide', 'Bugatti Mistral', 'Pagani Huayra Imola', 'Bugatti Divo', 'SP Automotive Chaos', 'Pagani Codalunga', 'Mercedes-Maybach Exelero', 'Bugatti Centodieci', 'Bugatti Chiron Profilée', 'Rolls-Royce Sweptail', 'Bugatti La Voiture Noire', 'Rolls-Royce Boat Tail*', 'De Tomaso P72', 'Ferrari LaFerrari', 'Pagani Huayra', 'McLaren Elva', 'Czinger 21C', 'Ferrari Monza', 'Gordon Murray T.33', 'Koenigsegg Gemera', 'Zenvo TSR-S', 'Hennessey Venom F5', 'Bentley Bacalar', 'Hispano Suiza Carmen Boulogne', 'Bentley Mulliner Batur', 'Deus Vayanne', 'SSC Tuatara', 'Lotus Evija', 'Aston Martin Vulcan', 'Delage D12', 'McLaren Speedtail', 'Rimac Nevera', 'Pagani Utopia', 'Pininfarina Battista', 'Ferrari FXX K Evo', 'Gordon Murray T.50', 'Lamborghini Countach', 'Mercedes-AMG Project One', 'Aston Martin Victor', 'Hennessey Venom F5 Roadster', 'Koenigsegg Jesko', 'Aston Martin Valkyrie', 'W Motors Lykan Hypersport', 'McLaren Solus', 'Pagani Huayra Roadster BC', 'Bugatti Chiron Pur Sport', 'Lamborghini Sian', 'Koenigsegg CC850', 'Bugatti Chiron Super Sport 300+', 'Lamborghini Veneno', 'Bugatti Bolide', 'Bugatti Mistral', 'Pagani Huayra Imola', 'Bugatti Divo', 'SP Automotive Chaos', 'Pagani Codalunga', 'Mercedes-Maybach Exelero', 'Bugatti Centodieci', 'Bugatti Chiron Profilée', 'Rolls-Royce Sweptail', 'Bugatti La Voiture Noire', 'De Tomaso P72', 'Ferrari LaFerrari', 'Pagani Huayra', 'McLaren Elva', 'Czinger 21C', 'Ferrari Monza', 'Gordon Murray T.33', 'Koenigsegg Gemera', 'Zenvo TSR-S', 'Hennessey Venom F5', 'Bentley Bacalar', 'Hispano Suiza Carmen Boulogne', 'Bentley Mulliner Batur', 'Deus Vayanne', 'SSC Tuatara', 'Lotus Evija', 'Aston Martin Vulcan', 'Delage D12', 'McLaren Speedtail', 'Rimac Nevera', 'Pagani Utopia', 'Pininfarina Battista', 'Ferrari FXX K Evo', 'Gordon Murray T.50', 'Lamborghini Countach', 'Mercedes-AMG Project One', 'Aston Martin Victor', 'Hennessey Venom F5 Roadster', 'Koenigsegg Jesko', 'Aston Martin Valkyrie', 'W Motors Lykan Hypersport', 'McLaren Solus', 'Pagani Huayra Roadster BC', 'Bugatti Chiron Pur Sport', 'Lamborghini Sian', 'Koenigsegg CC850', 'Bugatti Chiron Super Sport 300+', 'Lamborghini Veneno', 'Bugatti Bolide', 'Bugatti Mistral', 'Pagani Huayra Imola', 'Bugatti Divo', 'SP Automotive Chaos', 'Pagani Codalunga', 'Mercedes-Maybach Exelero', 'Bugatti Centodieci', 'Bugatti Chiron Profilée', 'Rolls-Royce Sweptail', 'Bugatti La Voiture Noire', 'Rolls-Royce Boat Tail*']\n"
     ]
    }
   ],
   "source": [
    "print(cars_name)"
   ]
  },
  {
   "cell_type": "code",
   "execution_count": 78,
   "id": "3dc573e0",
   "metadata": {},
   "outputs": [
    {
     "data": {
      "text/html": [
       "<div>\n",
       "<style scoped>\n",
       "    .dataframe tbody tr th:only-of-type {\n",
       "        vertical-align: middle;\n",
       "    }\n",
       "\n",
       "    .dataframe tbody tr th {\n",
       "        vertical-align: top;\n",
       "    }\n",
       "\n",
       "    .dataframe thead th {\n",
       "        text-align: right;\n",
       "    }\n",
       "</style>\n",
       "<table border=\"1\" class=\"dataframe\">\n",
       "  <thead>\n",
       "    <tr style=\"text-align: right;\">\n",
       "      <th></th>\n",
       "      <th>cars name</th>\n",
       "    </tr>\n",
       "  </thead>\n",
       "  <tbody>\n",
       "    <tr>\n",
       "      <th>0</th>\n",
       "      <td>De Tomaso P72</td>\n",
       "    </tr>\n",
       "    <tr>\n",
       "      <th>1</th>\n",
       "      <td>Ferrari LaFerrari</td>\n",
       "    </tr>\n",
       "    <tr>\n",
       "      <th>2</th>\n",
       "      <td>Pagani Huayra</td>\n",
       "    </tr>\n",
       "    <tr>\n",
       "      <th>3</th>\n",
       "      <td>McLaren Elva</td>\n",
       "    </tr>\n",
       "    <tr>\n",
       "      <th>4</th>\n",
       "      <td>Czinger 21C</td>\n",
       "    </tr>\n",
       "    <tr>\n",
       "      <th>...</th>\n",
       "      <td>...</td>\n",
       "    </tr>\n",
       "    <tr>\n",
       "      <th>193</th>\n",
       "      <td>Bugatti Centodieci</td>\n",
       "    </tr>\n",
       "    <tr>\n",
       "      <th>194</th>\n",
       "      <td>Bugatti Chiron Profilée</td>\n",
       "    </tr>\n",
       "    <tr>\n",
       "      <th>195</th>\n",
       "      <td>Rolls-Royce Sweptail</td>\n",
       "    </tr>\n",
       "    <tr>\n",
       "      <th>196</th>\n",
       "      <td>Bugatti La Voiture Noire</td>\n",
       "    </tr>\n",
       "    <tr>\n",
       "      <th>197</th>\n",
       "      <td>Rolls-Royce Boat Tail*</td>\n",
       "    </tr>\n",
       "  </tbody>\n",
       "</table>\n",
       "<p>198 rows × 1 columns</p>\n",
       "</div>"
      ],
      "text/plain": [
       "                    cars name\n",
       "0               De Tomaso P72\n",
       "1           Ferrari LaFerrari\n",
       "2               Pagani Huayra\n",
       "3                McLaren Elva\n",
       "4                 Czinger 21C\n",
       "..                        ...\n",
       "193        Bugatti Centodieci\n",
       "194   Bugatti Chiron Profilée\n",
       "195      Rolls-Royce Sweptail\n",
       "196  Bugatti La Voiture Noire\n",
       "197    Rolls-Royce Boat Tail*\n",
       "\n",
       "[198 rows x 1 columns]"
      ]
     },
     "execution_count": 78,
     "metadata": {},
     "output_type": "execute_result"
    }
   ],
   "source": [
    "import pandas as pd\n",
    "df=pd.DataFrame({'cars name':cars_name})\n",
    "df"
   ]
  },
  {
   "cell_type": "code",
   "execution_count": null,
   "id": "c09c638a",
   "metadata": {},
   "outputs": [],
   "source": []
  },
  {
   "cell_type": "code",
   "execution_count": null,
   "id": "8d8357a2",
   "metadata": {},
   "outputs": [],
   "source": []
  }
 ],
 "metadata": {
  "kernelspec": {
   "display_name": "Python 3 (ipykernel)",
   "language": "python",
   "name": "python3"
  },
  "language_info": {
   "codemirror_mode": {
    "name": "ipython",
    "version": 3
   },
   "file_extension": ".py",
   "mimetype": "text/x-python",
   "name": "python",
   "nbconvert_exporter": "python",
   "pygments_lexer": "ipython3",
   "version": "3.9.13"
  }
 },
 "nbformat": 4,
 "nbformat_minor": 5
}
